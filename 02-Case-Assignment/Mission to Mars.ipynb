{
 "cells": [
  {
   "cell_type": "code",
   "execution_count": 111,
   "metadata": {},
   "outputs": [],
   "source": [
    "#Import dependencies\n",
    "import pandas as pd\n",
    "import pymongo\n",
    "import requests\n",
    "from splinter import Browser\n",
    "from bs4 import BeautifulSoup as soup\n",
    "from webdriver_manager.chrome import ChromeDriverManager\n"
   ]
  },
  {
   "cell_type": "code",
   "execution_count": 112,
   "metadata": {},
   "outputs": [
    {
     "name": "stderr",
     "output_type": "stream",
     "text": [
      "[WDM] - Current google-chrome version is 89.0.4389\n",
      "[WDM] - Get LATEST driver version for 89.0.4389\n",
      "[WDM] - Driver [/Users/henrytran/.wdm/drivers/chromedriver/mac64/89.0.4389.23/chromedriver] found in cache\n"
     ]
    },
    {
     "name": "stdout",
     "output_type": "stream",
     "text": [
      " \n"
     ]
    }
   ],
   "source": [
    "# configure ChromeDriver\n",
    "executable_path = {'executable_path': ChromeDriverManager().install()}\n",
    "browser = Browser('chrome', **executable_path)\n"
   ]
  },
  {
   "cell_type": "markdown",
   "metadata": {},
   "source": [
    "# NASA MARS NEWS "
   ]
  },
  {
   "cell_type": "code",
   "execution_count": 113,
   "metadata": {},
   "outputs": [],
   "source": [
    "def mars_news(): \n",
    "   \n",
    "    url = 'https://mars.nasa.gov/news/'\n",
    "    browser.visit(url)\n",
    "\n",
    "    html = browser.html\n",
    "    new_soup = soup(html, 'html.parser')\n",
    "\n",
    "    #article_container = new_soup.select('ul.item_list')\n",
    "    article_container = new_soup.find('ul', class_ = 'item_list')\n",
    "\n",
    "\n",
    "    headline_date = article_container.find('div', class_ = 'list_date').text\n",
    "    news_title = article_container.find('div', class_ = 'content_title').find('a').text\n",
    "    news_p = article_container.find('div', class_ = 'article_teaser_body').text\n",
    "\n",
    "    return news_title, news_p"
   ]
  },
  {
   "cell_type": "markdown",
   "metadata": {},
   "source": [
    "# JPL MARS SPACE IMAGES\n",
    "\n",
    "##### There have been changes to the nasa site. As such, I set the code below to the first pic"
   ]
  },
  {
   "cell_type": "code",
   "execution_count": 114,
   "metadata": {},
   "outputs": [],
   "source": [
    " def featured_image():   \n",
    "    url = 'https://www.jpl.nasa.gov/images/ingenuity-helicopter-on-mars-illustration'\n",
    "    browser.visit(url)\n",
    "\n",
    "    html = browser.html\n",
    "    img_soup = soup(html, 'html.parser')\n",
    "\n",
    "    #Method 1\n",
    "#     try:\n",
    "#         img_element = img_soup.find('article', class_ = 'carousel_item')['style']\n",
    "\n",
    "#         img_rel_url = img_element.replace(\"backround-image: url('\",'')\n",
    "#         img_rel_url = img_rel_url.replace(\"');\",'')\n",
    "\n",
    "#         print(img_rel_url)\n",
    "#     except Exception as e:\n",
    "#         print(e)\n",
    "        #Method 2\n",
    "    try:\n",
    "#             full_image_elem = browser.find_by_id('full_image')[0]\n",
    "#             full_image_elem.click()\n",
    "\n",
    "#             #html = browser.html\n",
    "#             #img_soup = soup(html, 'html.parser')\n",
    "        img_rel_url = img_soup.find(class_=\"BaseImage object-scale-down\")['src']\n",
    "        print(img_rel_url)\n",
    "        featured_image_url = f'{img_rel_url}'\n",
    "#             print(featured_img_url)\n",
    "    except Exception as e:\n",
    "#         print(e)\n",
    "        return featured_image_url"
   ]
  },
  {
   "cell_type": "code",
   "execution_count": 115,
   "metadata": {},
   "outputs": [],
   "source": [
    "\n",
    "# url = 'https://www.jpl.nasa.gov/images/ingenuity-helicopter-on-mars-illustration'\n",
    "# browser.visit(url)\n",
    "\n",
    "# html = browser.html\n",
    "# img_soup = soup(html, 'html.parser')\n",
    "\n",
    "# #Method 1\n",
    "# #     try:\n",
    "# #         img_element = img_soup.find('article', class_ = 'carousel_item')['style']\n",
    "\n",
    "# #         img_rel_url = img_element.replace(\"backround-image: url('\",'')\n",
    "# #         img_rel_url = img_rel_url.replace(\"');\",'')\n",
    "\n",
    "# #         print(img_rel_url)\n",
    "# #     except Exception as e:\n",
    "# #         print(e)\n",
    "#     #Method 2\n",
    "# try:\n",
    "# #     full_image_elem = browser.find(class_='BaseImage  object-contain')[0]\n",
    "# #     full_image_elem.click()\n",
    "\n",
    "#     #html = browser.html\n",
    "#     #img_soup = soup(html, 'html.parser')\n",
    "#     img_rel_url = img_soup.find('id=\"96834\")['scr']\n",
    "#     print(img_rel_url)\n",
    "\n",
    "#     featured_image_url = f'{img_rel_url}'\n",
    "#     print(featured_img_url)\n",
    "# except Exception as e:\n",
    "#     print(e)\n"
   ]
  },
  {
   "cell_type": "code",
   "execution_count": 116,
   "metadata": {},
   "outputs": [
    {
     "data": {
      "text/plain": [
       "'https://d2pn8kiwq2w21t.cloudfront.net/images/jpegPIA24466.width-1024.jpg'"
      ]
     },
     "execution_count": 116,
     "metadata": {},
     "output_type": "execute_result"
    }
   ],
   "source": [
    "img_rel_url = img_soup.find(class_=\"BaseImage object-scale-down\")['src']\n",
    "img_rel_url\n",
    "# src =img_rel_url.find('src')"
   ]
  },
  {
   "cell_type": "code",
   "execution_count": 117,
   "metadata": {},
   "outputs": [
    {
     "name": "stdout",
     "output_type": "stream",
     "text": [
      "https://d2pn8kiwq2w21t.cloudfront.net/images/jpegPIA24466.width-1024.jpg\n"
     ]
    }
   ],
   "source": [
    "featured_image()"
   ]
  },
  {
   "cell_type": "markdown",
   "metadata": {},
   "source": [
    "\n",
    "# Mars Facts"
   ]
  },
  {
   "cell_type": "code",
   "execution_count": 118,
   "metadata": {},
   "outputs": [],
   "source": [
    "def mars_facts():\n",
    "    \n",
    "    url = 'https://space-facts.com/mars/'\n",
    "    browser.visit(url)\n",
    "\n",
    "    mars_facts_df = pd.read_html(url)\n",
    "    mars_facts_df = mars_facts_df[0]\n",
    "    mars_facts_df.columns = ['Description', 'Mars']\n",
    "    mars_facts_df\n",
    "\n",
    "    mars_facts_html = mars_facts_df.to_html(classes='table table-striped')\n",
    "    \n",
    "    return mars_facts_html"
   ]
  },
  {
   "cell_type": "code",
   "execution_count": 119,
   "metadata": {},
   "outputs": [],
   "source": [
    "html = browser.html\n",
    "facts_soup =soup(html, 'html.parser')\n",
    "facts_soup.find(id='tablepress-p-mars')"
   ]
  },
  {
   "cell_type": "markdown",
   "metadata": {},
   "source": [
    "# Mars "
   ]
  },
  {
   "cell_type": "code",
   "execution_count": null,
   "metadata": {},
   "outputs": [],
   "source": []
  },
  {
   "cell_type": "markdown",
   "metadata": {},
   "source": [
    "# Insert into Mongo DB"
   ]
  },
  {
   "cell_type": "code",
   "execution_count": 120,
   "metadata": {},
   "outputs": [],
   "source": [
    "def scrape_all():\n",
    "\n",
    "    news_title, news_p = mars_news()\n",
    "    featured_img_url = featured_image()\n",
    "    mars_facts_html = mars_facts()\n",
    "\n",
    "    #Assemble the document to insert into the database\n",
    "    nasa_document = {\n",
    "        'news_title': news_title,\n",
    "        'news_paragraph': news_p,\n",
    "        'featured_img_url': featured_img_url,\n",
    "        'mars_fact_html': mars_facts_html\n",
    "    }\n",
    "\n",
    "    return nasa_document"
   ]
  },
  {
   "cell_type": "code",
   "execution_count": 121,
   "metadata": {},
   "outputs": [
    {
     "name": "stdout",
     "output_type": "stream",
     "text": [
      "https://d2pn8kiwq2w21t.cloudfront.net/images/jpegPIA24466.width-1024.jpg\n"
     ]
    },
    {
     "data": {
      "text/plain": [
       "{'news_title': \"New Study Challenges Long-Held Theory of Fate of Mars' Water\",\n",
       " 'news_paragraph': 'The new science results indicate that a large quantity of the Red Planet’s water is trapped in its crust rather than having escaped into space.',\n",
       " 'featured_img_url': None,\n",
       " 'mars_fact_html': '<table border=\"1\" class=\"dataframe table table-striped\">\\n  <thead>\\n    <tr style=\"text-align: right;\">\\n      <th></th>\\n      <th>Description</th>\\n      <th>Mars</th>\\n    </tr>\\n  </thead>\\n  <tbody>\\n    <tr>\\n      <th>0</th>\\n      <td>Equatorial Diameter:</td>\\n      <td>6,792 km</td>\\n    </tr>\\n    <tr>\\n      <th>1</th>\\n      <td>Polar Diameter:</td>\\n      <td>6,752 km</td>\\n    </tr>\\n    <tr>\\n      <th>2</th>\\n      <td>Mass:</td>\\n      <td>6.39 × 10^23 kg (0.11 Earths)</td>\\n    </tr>\\n    <tr>\\n      <th>3</th>\\n      <td>Moons:</td>\\n      <td>2 (Phobos &amp; Deimos)</td>\\n    </tr>\\n    <tr>\\n      <th>4</th>\\n      <td>Orbit Distance:</td>\\n      <td>227,943,824 km (1.38 AU)</td>\\n    </tr>\\n    <tr>\\n      <th>5</th>\\n      <td>Orbit Period:</td>\\n      <td>687 days (1.9 years)</td>\\n    </tr>\\n    <tr>\\n      <th>6</th>\\n      <td>Surface Temperature:</td>\\n      <td>-87 to -5 °C</td>\\n    </tr>\\n    <tr>\\n      <th>7</th>\\n      <td>First Record:</td>\\n      <td>2nd millennium BC</td>\\n    </tr>\\n    <tr>\\n      <th>8</th>\\n      <td>Recorded By:</td>\\n      <td>Egyptian astronomers</td>\\n    </tr>\\n  </tbody>\\n</table>'}"
      ]
     },
     "execution_count": 121,
     "metadata": {},
     "output_type": "execute_result"
    }
   ],
   "source": [
    "scrape_all()\n"
   ]
  },
  {
   "cell_type": "code",
   "execution_count": 122,
   "metadata": {},
   "outputs": [
    {
     "name": "stdout",
     "output_type": "stream",
     "text": [
      "https://d2pn8kiwq2w21t.cloudfront.net/images/jpegPIA24466.width-1024.jpg\n"
     ]
    },
    {
     "data": {
      "text/plain": [
       "<pymongo.results.UpdateResult at 0x128aa1f80>"
      ]
     },
     "execution_count": 122,
     "metadata": {},
     "output_type": "execute_result"
    }
   ],
   "source": [
    "#Connect to MongoDB\n",
    "\n",
    "conn = 'mongodb://localhost:27017'\n",
    "client =pymongo.MongoClient(conn)\n",
    "\n",
    "db = client.mars_app\n",
    "\n",
    "mars = db.mars\n",
    "\n",
    "data_document = scrape_all()\n",
    "\n",
    "\n",
    "mars.update_one({},{'$set': data_document}, upsert=True)\n"
   ]
  },
  {
   "cell_type": "code",
   "execution_count": null,
   "metadata": {},
   "outputs": [],
   "source": []
  }
 ],
 "metadata": {
  "kernelspec": {
   "display_name": "Python 3",
   "language": "python",
   "name": "python3"
  },
  "language_info": {
   "codemirror_mode": {
    "name": "ipython",
    "version": 3
   },
   "file_extension": ".py",
   "mimetype": "text/x-python",
   "name": "python",
   "nbconvert_exporter": "python",
   "pygments_lexer": "ipython3",
   "version": "3.8.3"
  }
 },
 "nbformat": 4,
 "nbformat_minor": 4
}
